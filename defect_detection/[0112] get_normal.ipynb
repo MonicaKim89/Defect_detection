{
 "cells": [
  {
   "cell_type": "code",
   "execution_count": 12,
   "metadata": {},
   "outputs": [],
   "source": [
    "import cv2\n",
    "import os\n",
    "import sys\n",
    "import numpy as np\n",
    "from tqdm import tqdm\n",
    "from PIL import Image\n",
    "\n",
    "#### def ####\n",
    "import seaborn as sns\n",
    "import matplotlib.pyplot as plt\n",
    "\n",
    "import matplotlib.image as mpimg\n",
    "from matplotlib import font_manager, rc\n",
    "rc('font',family=\"AppleGothic\")\n",
    "plt.rcParams[\"font.family\"]=\"AppleGothic\" #plt 한글꺠짐\n",
    "plt.rcParams[\"font.family\"]=\"Arial\" #외국어꺠짐\n",
    "plt.rcParams['axes.unicode_minus'] = False # 마이너스 부호 출력 설정\n",
    "plt.rc('figure', figsize=(10,8))\n",
    "\n",
    "sns.set(font=\"AppleGothic\", \n",
    "        rc={\"axes.unicode_minus\":False},\n",
    "        style='darkgrid') #sns 한글깨짐\n",
    "\n",
    "from tqdm import tqdm\n",
    "\n",
    "\n",
    "def show(img):\n",
    "    #사이즈\n",
    "    plt.figure(figsize = (100,100))\n",
    "    #xticks/yticks - 눈금표\n",
    "    plt.xticks([])\n",
    "    plt.yticks([])\n",
    "    #코랩에서 안돌아감 주의\n",
    "    plt.imshow(img, cmap= 'gray')\n",
    "    plt.show()\n",
    "\n",
    "def histogram_equalization(img):\n",
    "    hist, bins = np.histogram(img.flatten(), 256,[0,256])\n",
    "\n",
    "    cdf = hist.cumsum()\n",
    "\n",
    "    # cdf의 값이 0인 경우는 mask처리를 하여 계산에서 제외\n",
    "    # mask처리가 되면 Numpy 계산에서 제외가 됨\n",
    "    # 아래는 cdf array에서 값이 0인 부분을 mask처리함\n",
    "    cdf_m = np.ma.masked_equal(cdf,0)\n",
    "\n",
    "    #History Equalization 공식\n",
    "    cdf_m = (cdf_m - cdf_m.min())*255/(cdf_m.max()-cdf_m.min())\n",
    "\n",
    "    # Mask처리를 했던 부분을 다시 0으로 변환\n",
    "    cdf = np.ma.filled(cdf_m,0).astype('uint8')\n",
    "\n",
    "    img2 = cdf[img]\n",
    "\n",
    "    return img2\n",
    "\n",
    "def get_crop_images(image_origin, contours):\n",
    "    margin = 10  # 원하는 margin\n",
    "    image_copy = image_origin.copy()\n",
    "    origin_height, origin_width = image_copy.shape[:2]  # get image size\n",
    "\n",
    "    crop_images = []  # 자른 이미지를 하나씩 추가해서 저장할 리스트\n",
    "\n",
    "    for contour in contours:\n",
    "        x, y, width, height = cv2.boundingRect(contour)  # 좌상단 꼭지점 좌표 , width, height\n",
    "\n",
    "        # Rect 의 size 가 기준 이상인 것만 담는다\n",
    "        if width > 1000 and height > 1000:\n",
    "            crop_row_1 = (y - margin) if (y - margin) > 0 else y\n",
    "            crop_row_2 = (y + height + margin) if (y + height + margin) < origin_height else y + height\n",
    "            crop_col_1 = (x - margin) if (x - margin) > 0 else x\n",
    "            crop_col_2 = (x + width + margin) if (x + width + margin) < origin_width else x + width\n",
    "\n",
    "            # 행렬은 row col 순서!!! 햇갈리지 말자!\n",
    "            crop = image_copy[crop_row_1: crop_row_2, crop_col_1: crop_col_2]  # 이미지를 잘라낸다.\n",
    "            crop_images.append(crop)  # 잘라낸 이미지들을 하나씩 리스트에 담는다.\n",
    "            \n",
    "\n",
    "    return crop_images\n",
    "\n",
    "def convertImage(image_name, save_name):\n",
    "\timg = Image.open(image_name)\n",
    "\timg = img.convert(\"RGBA\")\n",
    "\n",
    "\tdatas = img.getdata()\n",
    "\n",
    "\tnewData = []\n",
    "\n",
    "\tfor items in datas:\n",
    "\t\tif items[0] == 255 and items[1] == 255 and items[2] == 255:\n",
    "\t\t\tnewData.append((255, 255, 255, 0))\n",
    "\t\telse:\n",
    "\t\t\tnewData.append(items)\n",
    "\n",
    "\timg.putdata(newData)\n",
    "\timg.save(\"only_edge_{}.jpg\".format(save_name), \"PNG\")\n",
    "\t\n",
    "\n",
    "\n",
    "\n",
    "\n",
    "##### image_extraction #####\n",
    "def get_ready(img_org_path, save_name):\n",
    "    img_org = cv2.imread(img_org_path, cv2.IMREAD_COLOR)\n",
    "    img = img_org.copy()\n",
    "    img = cv2.cvtColor(img, cv2.COLOR_BGR2Lab)\n",
    "\n",
    "    #블러 02\n",
    "    #블러의 커널 사이즈가 홀수만 가능하므로 이미지 평균 값을 기준으로 홀수값 만들기\n",
    "    blur_k = int((img.mean()*0.5)//2)*2+1 \n",
    "    img = cv2.medianBlur(img, blur_k)\n",
    "\n",
    "    #threshold 적용을 위해 Lab에서 Grayscale로 이미지 변환 03\n",
    "    img = cv2.cvtColor(img, cv2.COLOR_Lab2BGR)\n",
    "    img = cv2.cvtColor(img, cv2.COLOR_BGR2GRAY)\n",
    "\n",
    "    #이미지 평균값을 기준으로 이진화 04\n",
    "    ret, img = cv2.threshold(img, 30, 255, cv2.THRESH_BINARY)\n",
    "    contours, hierarchy = cv2.findContours(img, cv2.RETR_TREE, cv2.CHAIN_APPROX_SIMPLE)\n",
    "\n",
    "\n",
    "    ######## extracting screen #######\n",
    "    for num, i in enumerate(get_crop_images(img_org, contours)[2:3]):\n",
    "        screen_img = i.copy()\n",
    "        cv2.imwrite('screen'+'_{}'.format(save_name)+'.jpg', i)\n",
    "        print('screen extraction complete, save as screen_img')\n",
    "\n",
    "\n",
    "    ### screen masking\n",
    "    screen_mask = img_org.copy()\n",
    "    cv2.drawContours(screen_mask, contours.copy(), -1, (255,255,255), -1)\n",
    "    cv2.drawContours(screen_mask, contours.copy(), 2, (255,255,255), -1)\n",
    "\n",
    "    ### edge\n",
    "    for num, i in enumerate(get_crop_images(screen_mask, contours)[1:2]):\n",
    "        white_img = i.copy()\n",
    "        cv2.imwrite('edge_only'+'_{}'.format(save_name)+'.jpg', i)\n",
    "        print('edge extraction complete saved as white_img')\n",
    "        image_name = 'edge_only'+'_{}'.format(save_name)+'.jpg'\n",
    "\n",
    "    ### edge png\n",
    "    convertImage(image_name, save_name)\n",
    "    print('background removed')\n",
    "    png_edge = cv2.imread('only_edge_{}.jpg'.format(save_name), cv2.IMREAD_COLOR)\n",
    "    print(\"Successful saved as png_edge\")\n",
    "\n",
    "    return screen_img, white_img, png_edge"
   ]
  },
  {
   "cell_type": "code",
   "execution_count": 17,
   "metadata": {},
   "outputs": [
    {
     "name": "stdout",
     "output_type": "stream",
     "text": [
      "screen extraction complete, save as screen_img\n",
      "edge extraction complete saved as white_img\n",
      "background removed\n",
      "Successful saved as png_edge\n"
     ]
    }
   ],
   "source": [
    "img_path = \"C:\\\\Users\\\\yukir\\\\Documents\\\\Monicas_workspace\\\\surface_detection\\\\dataset\\\\dataset_02\\\\c5_02.jpg\"\n",
    "\n",
    "screen_img, white_img, png_edge = get_ready(img_path, save_name='C5_test')"
   ]
  },
  {
   "cell_type": "code",
   "execution_count": 13,
   "metadata": {},
   "outputs": [],
   "source": [
    "data_path ='D:\\\\surface_dataset\\\\D_sample_data_str_remove_data\\\\'\n",
    "img_list = os.listdir(data_path)\n",
    "\n",
    "list_02 =[]\n",
    "\n",
    "for i in img_list:\n",
    "    k = i.split('_')[-1]\n",
    "    if k=='02.bmp':\n",
    "        list_02.append(i)"
   ]
  },
  {
   "cell_type": "code",
   "execution_count": 18,
   "metadata": {},
   "outputs": [
    {
     "name": "stderr",
     "output_type": "stream",
     "text": [
      "100%|██████████| 106/106 [02:02<00:00,  1.16s/it]\n"
     ]
    }
   ],
   "source": [
    "import shutil\n",
    "from tqdm import tqdm\n",
    "\n",
    "save_path = 'C:\\\\Users\\\\yukir\\\\Documents\\\\Monicas_workspace\\\\surface_detection\\\\dataset\\\\dataset_02\\\\'\n",
    "\n",
    "\n",
    "for i in tqdm(list_02):\n",
    "    from_02= data_path +i\n",
    "    name = i.split('.bmp')[0]\n",
    "    shutil.copy2(from_02, save_path + name +'.jpg')"
   ]
  },
  {
   "cell_type": "code",
   "execution_count": 19,
   "metadata": {},
   "outputs": [
    {
     "data": {
      "text/plain": [
       "106"
      ]
     },
     "execution_count": 19,
     "metadata": {},
     "output_type": "execute_result"
    }
   ],
   "source": [
    "img_02 = os.listdir(save_path)\n",
    "len(img_02)"
   ]
  },
  {
   "cell_type": "code",
   "execution_count": null,
   "metadata": {},
   "outputs": [],
   "source": []
  }
 ],
 "metadata": {
  "interpreter": {
   "hash": "2d93d6df27dcc797823232b994e4f43d959f011089850837812bf48ca3e70a46"
  },
  "kernelspec": {
   "display_name": "Python 3.7.11 64-bit ('tensorflow37': conda)",
   "language": "python",
   "name": "python3"
  },
  "language_info": {
   "codemirror_mode": {
    "name": "ipython",
    "version": 3
   },
   "file_extension": ".py",
   "mimetype": "text/x-python",
   "name": "python",
   "nbconvert_exporter": "python",
   "pygments_lexer": "ipython3",
   "version": "3.7.11"
  },
  "orig_nbformat": 4
 },
 "nbformat": 4,
 "nbformat_minor": 2
}
